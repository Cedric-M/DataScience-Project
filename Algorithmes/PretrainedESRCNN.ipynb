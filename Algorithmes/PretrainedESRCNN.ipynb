{
 "cells": [
  {
   "cell_type": "code",
   "execution_count": null,
   "metadata": {},
   "outputs": [],
   "source": [
    "from skimage.io import imread\n",
    "import numpy as np\n",
    "import pandas as pd\n",
    "import matplotlib.pyplot as plt\n",
    "import os\n",
    "from keras.layers import Input, Dense, Convolution2D, MaxPooling2D, UpSampling2D, Conv2DTranspose, Add\n",
    "from keras.models import Model, Sequential\n",
    "from keras.preprocessing.image import ImageDataGenerator\n",
    "import keras.optimizers as optimizers\n",
    "from keras.applications.vgg16 import VGG16\n",
    "#dimension of target image\n",
    "IMG_HEIGHT = 576\n",
    "IMG_WIDTH = 720\n",
    "BATCH_SIZE = 4\n",
    "\n",
    "#DATA GENERATION\n",
    "def load_img(path):\n",
    "    img = imread(path)\n",
    "    img = img/ 255\n",
    "    return img\n",
    "\n",
    "def img_generator(img_list,batch_size):\n",
    "    while True:\n",
    "        X_batch_input = []\n",
    "        y_batch_input = []\n",
    "        degraded_path =  '/home/romain/datasets/dataset_clean_degraded/degraded/'\n",
    "        clean_path =  '/home/romain/datasets/dataset_clean_degraded/clean/'\n",
    "        batch_path = np.random.choice(a = img_list, size= batch_size)\n",
    "        for img_name in batch_path:\n",
    "            current_X = load_img(degraded_path+img_name)\n",
    "            current_y = load_img(clean_path+img_name)\n",
    "            X_batch_input += [ current_X ]\n",
    "            y_batch_input += [ current_y ]\n",
    "        batch_X = np.array(X_batch_input)\n",
    "        batch_y = np.array(y_batch_input)\n",
    "        yield (batch_X, batch_y)\n",
    "\n",
    "#MODEL DEFINITION\n",
    "model = Sequential()\n",
    "init = Input(shape=(IMG_HEIGHT, IMG_WIDTH, 3))\n",
    "base_model = VGG16(include_top=False, weights='imagenet', input_shape=(IMG_HEIGHT, IMG_WIDTH, 3))\n",
    "layer_dict = dict([(layer.name, layer) for layer in base_model.layers])\n",
    "init_1 = layer_dict['block3_pool'].output\n",
    "x = Convolution2D(8, (3, 3), activation='relu', padding='same')(init_1)\n",
    "x = UpSampling2D((2, 2))(x)\n",
    "\n",
    "# DeConv2\n",
    "x = Convolution2D(8, (3, 3), activation='relu', padding='same')(x)\n",
    "x = UpSampling2D((2, 2))(x)\n",
    "\n",
    "# Deconv3\n",
    "x = Convolution2D(16, (3, 3), activation='relu', padding='same')(x)\n",
    "x = UpSampling2D((2, 2))(x)\n",
    "level1_1 = Convolution2D(16, (3, 3), activation='relu', padding='same')(x)\n",
    "level2_1 = Convolution2D(16, (3, 3), activation='relu', padding='same')(level1_1)\n",
    "level2_2 = Conv2DTranspose(16, (3, 3), activation='relu', padding='same')(level2_1)\n",
    "level2 = Add()([level2_1, level2_2])\n",
    "level1_2 = Conv2DTranspose(16, (3, 3), activation='relu', padding='same')(level2)\n",
    "level1 = Add()([level1_1, level1_2])\n",
    "decoded = Convolution2D(3, (5, 5), activation='linear', padding='same')(level1)\n",
    "model = Model(base_model.input, decoded)\n",
    "adam = optimizers.Adam(lr=1e-3)\n",
    "model.compile(optimizer=adam, loss='mse', metrics=['mean_squared_error'])\n",
    "model.summary()\n",
    "\n",
    "#TRAINING\n",
    "img_list = os.listdir('/home/romain/datasets/dataset_clean_degraded/degraded/')\n",
    "gen = img_generator(img_list, BATCH_SIZE)\n",
    "\n",
    "STEPS_PER_EPOCH = np.ceil(5500/BATCH_SIZE)\n",
    "history = model.fit_generator(gen, steps_per_epoch=STEPS_PER_EPOCH, epochs=2)"
   ]
  },
  {
   "cell_type": "code",
   "execution_count": null,
   "metadata": {},
   "outputs": [],
   "source": [
    "import pickle\n",
    "pickle.dump( model , open( \"model-save-pickle-PreESRCNN.p\", \"wb\"))\n",
    "pickle.dump( history , open( \"history-save-pickle-PreESRCNN.p\", \"wb\"))"
   ]
  },
  {
   "cell_type": "code",
   "execution_count": 9,
   "metadata": {},
   "outputs": [],
   "source": [
    "import pickle\n",
    "model = pickle.load( open(\"C:/Users/Mathieu/CESI/Pickle/save-pickle-autoencoder.p\", \"rb\"))"
   ]
  },
  {
   "cell_type": "code",
   "execution_count": 10,
   "metadata": {},
   "outputs": [],
   "source": [
    "from keras.utils import plot_model\n",
    "plot_model(model, to_file='model-autoencoder.png')\n"
   ]
  },
  {
   "cell_type": "code",
   "execution_count": null,
   "metadata": {},
   "outputs": [],
   "source": []
  }
 ],
 "metadata": {
  "kernelspec": {
   "display_name": "Python 3",
   "language": "python",
   "name": "python3"
  },
  "language_info": {
   "codemirror_mode": {
    "name": "ipython",
    "version": 3
   },
   "file_extension": ".py",
   "mimetype": "text/x-python",
   "name": "python",
   "nbconvert_exporter": "python",
   "pygments_lexer": "ipython3",
   "version": "3.7.4"
  }
 },
 "nbformat": 4,
 "nbformat_minor": 4
}
